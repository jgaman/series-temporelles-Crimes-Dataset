{
 "cells": [
  {
   "cell_type": "markdown",
   "metadata": {},
   "source": [
    "# Séries Temporelles\n"
   ]
  },
  {
   "cell_type": "markdown",
   "metadata": {},
   "source": [
    "Importons les bibliothèques nécécessaires"
   ]
  },
  {
   "cell_type": "code",
   "execution_count": 1,
   "metadata": {},
   "outputs": [],
   "source": [
    "import numpy as np \n",
    "import pandas as pd \n",
    "from matplotlib import pyplot as plt \n",
    "from statsmodels.tsa.stattools import adfuller\n",
    "from statsmodels.tsa.seasonal import seasonal_decompose\n",
    "from statsmodels.tsa.arima_model import ARIMA \n",
    "from pandas.plotting import register_matplotlib_converters"
   ]
  },
  {
   "cell_type": "code",
   "execution_count": 2,
   "metadata": {},
   "outputs": [],
   "source": [
    "register_matplotlib_converters()"
   ]
  },
  {
   "cell_type": "markdown",
   "metadata": {},
   "source": [
    "importons le jeu de données"
   ]
  },
  {
   "cell_type": "code",
   "execution_count": 3,
   "metadata": {},
   "outputs": [],
   "source": [
    "#import du le dataset\n",
    "crimes = pd.read_csv(r'C:\\Users\\gaman\\OneDrive - baudoin\\Bureau\\serie temporelle\\BPD_Part_1_Victim_Based_Crime_Data.csv')"
   ]
  },
  {
   "cell_type": "code",
   "execution_count": 4,
   "metadata": {},
   "outputs": [
    {
     "data": {
      "text/html": [
       "<div>\n",
       "<style scoped>\n",
       "    .dataframe tbody tr th:only-of-type {\n",
       "        vertical-align: middle;\n",
       "    }\n",
       "\n",
       "    .dataframe tbody tr th {\n",
       "        vertical-align: top;\n",
       "    }\n",
       "\n",
       "    .dataframe thead th {\n",
       "        text-align: right;\n",
       "    }\n",
       "</style>\n",
       "<table border=\"1\" class=\"dataframe\">\n",
       "  <thead>\n",
       "    <tr style=\"text-align: right;\">\n",
       "      <th></th>\n",
       "      <th>CrimeDate</th>\n",
       "      <th>CrimeTime</th>\n",
       "      <th>CrimeCode</th>\n",
       "      <th>Location</th>\n",
       "      <th>Description</th>\n",
       "      <th>Inside/Outside</th>\n",
       "      <th>Weapon</th>\n",
       "      <th>Post</th>\n",
       "      <th>District</th>\n",
       "      <th>Neighborhood</th>\n",
       "      <th>Location 1</th>\n",
       "      <th>Total Incidents</th>\n",
       "    </tr>\n",
       "  </thead>\n",
       "  <tbody>\n",
       "    <tr>\n",
       "      <th>0</th>\n",
       "      <td>11/12/2016</td>\n",
       "      <td>02:35:00</td>\n",
       "      <td>3B</td>\n",
       "      <td>300 SAINT PAUL PL</td>\n",
       "      <td>ROBBERY - STREET</td>\n",
       "      <td>O</td>\n",
       "      <td>NaN</td>\n",
       "      <td>111.0</td>\n",
       "      <td>CENTRAL</td>\n",
       "      <td>Downtown</td>\n",
       "      <td>(39.2924100000, -76.6140800000)</td>\n",
       "      <td>1</td>\n",
       "    </tr>\n",
       "    <tr>\n",
       "      <th>1</th>\n",
       "      <td>11/12/2016</td>\n",
       "      <td>02:56:00</td>\n",
       "      <td>3CF</td>\n",
       "      <td>800 S BROADWAY</td>\n",
       "      <td>ROBBERY - COMMERCIAL</td>\n",
       "      <td>I</td>\n",
       "      <td>FIREARM</td>\n",
       "      <td>213.0</td>\n",
       "      <td>SOUTHEASTERN</td>\n",
       "      <td>Fells Point</td>\n",
       "      <td>(39.2824200000, -76.5928800000)</td>\n",
       "      <td>1</td>\n",
       "    </tr>\n",
       "    <tr>\n",
       "      <th>2</th>\n",
       "      <td>11/12/2016</td>\n",
       "      <td>03:00:00</td>\n",
       "      <td>6D</td>\n",
       "      <td>1500 PENTWOOD RD</td>\n",
       "      <td>LARCENY FROM AUTO</td>\n",
       "      <td>O</td>\n",
       "      <td>NaN</td>\n",
       "      <td>413.0</td>\n",
       "      <td>NORTHEASTERN</td>\n",
       "      <td>Stonewood-Pentwood-Winston</td>\n",
       "      <td>(39.3480500000, -76.5883400000)</td>\n",
       "      <td>1</td>\n",
       "    </tr>\n",
       "    <tr>\n",
       "      <th>3</th>\n",
       "      <td>11/12/2016</td>\n",
       "      <td>03:00:00</td>\n",
       "      <td>6D</td>\n",
       "      <td>6600 MILTON LN</td>\n",
       "      <td>LARCENY FROM AUTO</td>\n",
       "      <td>O</td>\n",
       "      <td>NaN</td>\n",
       "      <td>424.0</td>\n",
       "      <td>NORTHEASTERN</td>\n",
       "      <td>Westfield</td>\n",
       "      <td>(39.3626300000, -76.5516100000)</td>\n",
       "      <td>1</td>\n",
       "    </tr>\n",
       "    <tr>\n",
       "      <th>4</th>\n",
       "      <td>11/12/2016</td>\n",
       "      <td>03:00:00</td>\n",
       "      <td>6E</td>\n",
       "      <td>300 W BALTIMORE ST</td>\n",
       "      <td>LARCENY</td>\n",
       "      <td>O</td>\n",
       "      <td>NaN</td>\n",
       "      <td>111.0</td>\n",
       "      <td>CENTRAL</td>\n",
       "      <td>Downtown</td>\n",
       "      <td>(39.2893800000, -76.6197100000)</td>\n",
       "      <td>1</td>\n",
       "    </tr>\n",
       "    <tr>\n",
       "      <th>...</th>\n",
       "      <td>...</td>\n",
       "      <td>...</td>\n",
       "      <td>...</td>\n",
       "      <td>...</td>\n",
       "      <td>...</td>\n",
       "      <td>...</td>\n",
       "      <td>...</td>\n",
       "      <td>...</td>\n",
       "      <td>...</td>\n",
       "      <td>...</td>\n",
       "      <td>...</td>\n",
       "      <td>...</td>\n",
       "    </tr>\n",
       "    <tr>\n",
       "      <th>285797</th>\n",
       "      <td>01/01/2011</td>\n",
       "      <td>22:00:00</td>\n",
       "      <td>6D</td>\n",
       "      <td>200 EMORY ST</td>\n",
       "      <td>LARCENY FROM AUTO</td>\n",
       "      <td>O</td>\n",
       "      <td>NaN</td>\n",
       "      <td>941.0</td>\n",
       "      <td>SOUTHERN</td>\n",
       "      <td>Ridgely's Delight</td>\n",
       "      <td>(39.2861000000, -76.6247400000)</td>\n",
       "      <td>1</td>\n",
       "    </tr>\n",
       "    <tr>\n",
       "      <th>285798</th>\n",
       "      <td>01/01/2011</td>\n",
       "      <td>22:00:00</td>\n",
       "      <td>6D</td>\n",
       "      <td>1200 N CALHOUN ST</td>\n",
       "      <td>LARCENY FROM AUTO</td>\n",
       "      <td>O</td>\n",
       "      <td>NaN</td>\n",
       "      <td>743.0</td>\n",
       "      <td>WESTERN</td>\n",
       "      <td>Sandtown-Winchester</td>\n",
       "      <td>(39.3025800000, -76.6403600000)</td>\n",
       "      <td>1</td>\n",
       "    </tr>\n",
       "    <tr>\n",
       "      <th>285799</th>\n",
       "      <td>01/01/2011</td>\n",
       "      <td>22:00:00</td>\n",
       "      <td>4E</td>\n",
       "      <td>2700 ASHLAND AV</td>\n",
       "      <td>COMMON ASSAULT</td>\n",
       "      <td>O</td>\n",
       "      <td>HANDS</td>\n",
       "      <td>323.0</td>\n",
       "      <td>EASTERN</td>\n",
       "      <td>Madison-Eastend</td>\n",
       "      <td>(39.3010900000, -76.5788000000)</td>\n",
       "      <td>1</td>\n",
       "    </tr>\n",
       "    <tr>\n",
       "      <th>285800</th>\n",
       "      <td>01/01/2011</td>\n",
       "      <td>22:00:00</td>\n",
       "      <td>5A</td>\n",
       "      <td>2300 BOSTON ST</td>\n",
       "      <td>BURGLARY</td>\n",
       "      <td>I</td>\n",
       "      <td>NaN</td>\n",
       "      <td>232.0</td>\n",
       "      <td>SOUTHEASTERN</td>\n",
       "      <td>Canton</td>\n",
       "      <td>(39.2828600000, -76.5842000000)</td>\n",
       "      <td>1</td>\n",
       "    </tr>\n",
       "    <tr>\n",
       "      <th>285801</th>\n",
       "      <td>01/01/2011</td>\n",
       "      <td>22:15:00</td>\n",
       "      <td>4E</td>\n",
       "      <td>6800 MCCLEAN BD</td>\n",
       "      <td>COMMON ASSAULT</td>\n",
       "      <td>I</td>\n",
       "      <td>HANDS</td>\n",
       "      <td>423.0</td>\n",
       "      <td>NORTHEASTERN</td>\n",
       "      <td>Hamilton Hills</td>\n",
       "      <td>(39.3704700000, -76.5670500000)</td>\n",
       "      <td>1</td>\n",
       "    </tr>\n",
       "  </tbody>\n",
       "</table>\n",
       "<p>285802 rows × 12 columns</p>\n",
       "</div>"
      ],
      "text/plain": [
       "         CrimeDate CrimeTime CrimeCode            Location  \\\n",
       "0       11/12/2016  02:35:00        3B   300 SAINT PAUL PL   \n",
       "1       11/12/2016  02:56:00       3CF      800 S BROADWAY   \n",
       "2       11/12/2016  03:00:00        6D    1500 PENTWOOD RD   \n",
       "3       11/12/2016  03:00:00        6D      6600 MILTON LN   \n",
       "4       11/12/2016  03:00:00        6E  300 W BALTIMORE ST   \n",
       "...            ...       ...       ...                 ...   \n",
       "285797  01/01/2011  22:00:00        6D        200 EMORY ST   \n",
       "285798  01/01/2011  22:00:00        6D   1200 N CALHOUN ST   \n",
       "285799  01/01/2011  22:00:00        4E     2700 ASHLAND AV   \n",
       "285800  01/01/2011  22:00:00        5A      2300 BOSTON ST   \n",
       "285801  01/01/2011  22:15:00        4E     6800 MCCLEAN BD   \n",
       "\n",
       "                 Description Inside/Outside   Weapon   Post      District  \\\n",
       "0           ROBBERY - STREET              O      NaN  111.0       CENTRAL   \n",
       "1       ROBBERY - COMMERCIAL              I  FIREARM  213.0  SOUTHEASTERN   \n",
       "2          LARCENY FROM AUTO              O      NaN  413.0  NORTHEASTERN   \n",
       "3          LARCENY FROM AUTO              O      NaN  424.0  NORTHEASTERN   \n",
       "4                    LARCENY              O      NaN  111.0       CENTRAL   \n",
       "...                      ...            ...      ...    ...           ...   \n",
       "285797     LARCENY FROM AUTO              O      NaN  941.0      SOUTHERN   \n",
       "285798     LARCENY FROM AUTO              O      NaN  743.0       WESTERN   \n",
       "285799        COMMON ASSAULT              O    HANDS  323.0       EASTERN   \n",
       "285800              BURGLARY              I      NaN  232.0  SOUTHEASTERN   \n",
       "285801        COMMON ASSAULT              I    HANDS  423.0  NORTHEASTERN   \n",
       "\n",
       "                      Neighborhood                       Location 1  \\\n",
       "0                         Downtown  (39.2924100000, -76.6140800000)   \n",
       "1                      Fells Point  (39.2824200000, -76.5928800000)   \n",
       "2       Stonewood-Pentwood-Winston  (39.3480500000, -76.5883400000)   \n",
       "3                        Westfield  (39.3626300000, -76.5516100000)   \n",
       "4                         Downtown  (39.2893800000, -76.6197100000)   \n",
       "...                            ...                              ...   \n",
       "285797           Ridgely's Delight  (39.2861000000, -76.6247400000)   \n",
       "285798         Sandtown-Winchester  (39.3025800000, -76.6403600000)   \n",
       "285799             Madison-Eastend  (39.3010900000, -76.5788000000)   \n",
       "285800                      Canton  (39.2828600000, -76.5842000000)   \n",
       "285801              Hamilton Hills  (39.3704700000, -76.5670500000)   \n",
       "\n",
       "        Total Incidents  \n",
       "0                     1  \n",
       "1                     1  \n",
       "2                     1  \n",
       "3                     1  \n",
       "4                     1  \n",
       "...                 ...  \n",
       "285797                1  \n",
       "285798                1  \n",
       "285799                1  \n",
       "285800                1  \n",
       "285801                1  \n",
       "\n",
       "[285802 rows x 12 columns]"
      ]
     },
     "execution_count": 4,
     "metadata": {},
     "output_type": "execute_result"
    }
   ],
   "source": [
    "crimes.head(-5)"
   ]
  },
  {
   "cell_type": "markdown",
   "metadata": {},
   "source": [
    "filtrons notre dataset"
   ]
  },
  {
   "cell_type": "code",
   "execution_count": 5,
   "metadata": {},
   "outputs": [
    {
     "data": {
      "text/html": [
       "<div>\n",
       "<style scoped>\n",
       "    .dataframe tbody tr th:only-of-type {\n",
       "        vertical-align: middle;\n",
       "    }\n",
       "\n",
       "    .dataframe tbody tr th {\n",
       "        vertical-align: top;\n",
       "    }\n",
       "\n",
       "    .dataframe thead th {\n",
       "        text-align: right;\n",
       "    }\n",
       "</style>\n",
       "<table border=\"1\" class=\"dataframe\">\n",
       "  <thead>\n",
       "    <tr style=\"text-align: right;\">\n",
       "      <th></th>\n",
       "      <th>CrimeDate</th>\n",
       "      <th>CrimeTime</th>\n",
       "      <th>Total Incidents</th>\n",
       "      <th>Weapon</th>\n",
       "    </tr>\n",
       "  </thead>\n",
       "  <tbody>\n",
       "    <tr>\n",
       "      <th>0</th>\n",
       "      <td>11/12/2016</td>\n",
       "      <td>02:35:00</td>\n",
       "      <td>1</td>\n",
       "      <td>NaN</td>\n",
       "    </tr>\n",
       "    <tr>\n",
       "      <th>1</th>\n",
       "      <td>11/12/2016</td>\n",
       "      <td>02:56:00</td>\n",
       "      <td>1</td>\n",
       "      <td>FIREARM</td>\n",
       "    </tr>\n",
       "    <tr>\n",
       "      <th>2</th>\n",
       "      <td>11/12/2016</td>\n",
       "      <td>03:00:00</td>\n",
       "      <td>1</td>\n",
       "      <td>NaN</td>\n",
       "    </tr>\n",
       "    <tr>\n",
       "      <th>3</th>\n",
       "      <td>11/12/2016</td>\n",
       "      <td>03:00:00</td>\n",
       "      <td>1</td>\n",
       "      <td>NaN</td>\n",
       "    </tr>\n",
       "    <tr>\n",
       "      <th>4</th>\n",
       "      <td>11/12/2016</td>\n",
       "      <td>03:00:00</td>\n",
       "      <td>1</td>\n",
       "      <td>NaN</td>\n",
       "    </tr>\n",
       "  </tbody>\n",
       "</table>\n",
       "</div>"
      ],
      "text/plain": [
       "    CrimeDate CrimeTime  Total Incidents   Weapon\n",
       "0  11/12/2016  02:35:00                1      NaN\n",
       "1  11/12/2016  02:56:00                1  FIREARM\n",
       "2  11/12/2016  03:00:00                1      NaN\n",
       "3  11/12/2016  03:00:00                1      NaN\n",
       "4  11/12/2016  03:00:00                1      NaN"
      ]
     },
     "execution_count": 5,
     "metadata": {},
     "output_type": "execute_result"
    }
   ],
   "source": [
    "crime2 = crimes[[\"CrimeDate\", \"CrimeTime\", \"Total Incidents\", \"Weapon\"]]\n",
    "crime2.head()"
   ]
  },
  {
   "cell_type": "code",
   "execution_count": 6,
   "metadata": {},
   "outputs": [
    {
     "data": {
      "text/plain": [
       "array([[<AxesSubplot:title={'center':'Total Incidents'}>]], dtype=object)"
      ]
     },
     "execution_count": 6,
     "metadata": {},
     "output_type": "execute_result"
    },
    {
     "data": {
      "image/png": "[encoded data removed]",
      "text/plain": [
       "<Figure size 432x288 with 1 Axes>"
      ]
     },
     "metadata": {
      "needs_background": "light"
     },
     "output_type": "display_data"
    }
   ],
   "source": [
    "crime2.hist(column='Total Incidents', bins=10)"
   ]
  },
  {
   "cell_type": "markdown",
   "metadata": {},
   "source": [
    "Regroupons les crimes par date"
   ]
  },
  {
   "cell_type": "code",
   "execution_count": 7,
   "metadata": {},
   "outputs": [
    {
     "data": {
      "text/html": [
       "<div>\n",
       "<style scoped>\n",
       "    .dataframe tbody tr th:only-of-type {\n",
       "        vertical-align: middle;\n",
       "    }\n",
       "\n",
       "    .dataframe tbody tr th {\n",
       "        vertical-align: top;\n",
       "    }\n",
       "\n",
       "    .dataframe thead th {\n",
       "        text-align: right;\n",
       "    }\n",
       "</style>\n",
       "<table border=\"1\" class=\"dataframe\">\n",
       "  <thead>\n",
       "    <tr style=\"text-align: right;\">\n",
       "      <th></th>\n",
       "      <th>Total Incidents</th>\n",
       "    </tr>\n",
       "    <tr>\n",
       "      <th>CrimeDate</th>\n",
       "      <th></th>\n",
       "    </tr>\n",
       "  </thead>\n",
       "  <tbody>\n",
       "    <tr>\n",
       "      <th>01/01/2011</th>\n",
       "      <td>185</td>\n",
       "    </tr>\n",
       "    <tr>\n",
       "      <th>01/01/2012</th>\n",
       "      <td>176</td>\n",
       "    </tr>\n",
       "    <tr>\n",
       "      <th>01/01/2013</th>\n",
       "      <td>157</td>\n",
       "    </tr>\n",
       "    <tr>\n",
       "      <th>01/01/2014</th>\n",
       "      <td>139</td>\n",
       "    </tr>\n",
       "    <tr>\n",
       "      <th>01/01/2015</th>\n",
       "      <td>157</td>\n",
       "    </tr>\n",
       "    <tr>\n",
       "      <th>...</th>\n",
       "      <td>...</td>\n",
       "    </tr>\n",
       "    <tr>\n",
       "      <th>12/30/2011</th>\n",
       "      <td>130</td>\n",
       "    </tr>\n",
       "    <tr>\n",
       "      <th>12/30/2012</th>\n",
       "      <td>116</td>\n",
       "    </tr>\n",
       "    <tr>\n",
       "      <th>12/30/2013</th>\n",
       "      <td>121</td>\n",
       "    </tr>\n",
       "    <tr>\n",
       "      <th>12/30/2014</th>\n",
       "      <td>113</td>\n",
       "    </tr>\n",
       "    <tr>\n",
       "      <th>12/30/2015</th>\n",
       "      <td>121</td>\n",
       "    </tr>\n",
       "  </tbody>\n",
       "</table>\n",
       "<p>2138 rows × 1 columns</p>\n",
       "</div>"
      ],
      "text/plain": [
       "            Total Incidents\n",
       "CrimeDate                  \n",
       "01/01/2011              185\n",
       "01/01/2012              176\n",
       "01/01/2013              157\n",
       "01/01/2014              139\n",
       "01/01/2015              157\n",
       "...                     ...\n",
       "12/30/2011              130\n",
       "12/30/2012              116\n",
       "12/30/2013              121\n",
       "12/30/2014              113\n",
       "12/30/2015              121\n",
       "\n",
       "[2138 rows x 1 columns]"
      ]
     },
     "execution_count": 7,
     "metadata": {},
     "output_type": "execute_result"
    }
   ],
   "source": [
    "crime_date = crime2.groupby(['CrimeDate']).sum()\n",
    "crime_date.head(-5)\n"
   ]
  },
  {
   "cell_type": "code",
   "execution_count": 8,
   "metadata": {},
   "outputs": [
    {
     "data": {
      "text/plain": [
       "<function matplotlib.pyplot.show(close=None, block=None)>"
      ]
     },
     "execution_count": 8,
     "metadata": {},
     "output_type": "execute_result"
    },
    {
     "data": {
      "image/png": "[encoded data removed]",
      "text/plain": [
       "<Figure size 432x288 with 1 Axes>"
      ]
     },
     "metadata": {
      "needs_background": "light"
     },
     "output_type": "display_data"
    }
   ],
   "source": [
    "# Visualisons le nombres d'incident par date\n",
    "plt.xlabel('CrimeDate')\n",
    "plt.ylabel('Total Incidents')\n",
    "plt.plot(crime_date)\n",
    "plt.show"
   ]
  },
  {
   "cell_type": "markdown",
   "metadata": {},
   "source": [
    "Remarques:\n",
    "    Baisse progressive du nombre de crimes par jour\n",
    "    on observe un pick à un peu plus de 400 crimes en une journée\n",
    "    et un minimum à moin de 50 crimes dans une journée"
   ]
  },
  {
   "cell_type": "markdown",
   "metadata": {},
   "source": [
    "Groupons les crimes par heures "
   ]
  },
  {
   "cell_type": "code",
   "execution_count": 9,
   "metadata": {},
   "outputs": [
    {
     "data": {
      "text/html": [
       "<div>\n",
       "<style scoped>\n",
       "    .dataframe tbody tr th:only-of-type {\n",
       "        vertical-align: middle;\n",
       "    }\n",
       "\n",
       "    .dataframe tbody tr th {\n",
       "        vertical-align: top;\n",
       "    }\n",
       "\n",
       "    .dataframe thead th {\n",
       "        text-align: right;\n",
       "    }\n",
       "</style>\n",
       "<table border=\"1\" class=\"dataframe\">\n",
       "  <thead>\n",
       "    <tr style=\"text-align: right;\">\n",
       "      <th></th>\n",
       "      <th>Total Incidents</th>\n",
       "    </tr>\n",
       "    <tr>\n",
       "      <th>CrimeTime</th>\n",
       "      <th></th>\n",
       "    </tr>\n",
       "  </thead>\n",
       "  <tbody>\n",
       "    <tr>\n",
       "      <th>0000</th>\n",
       "      <td>2</td>\n",
       "    </tr>\n",
       "    <tr>\n",
       "      <th>0001</th>\n",
       "      <td>2</td>\n",
       "    </tr>\n",
       "    <tr>\n",
       "      <th>0002</th>\n",
       "      <td>7</td>\n",
       "    </tr>\n",
       "    <tr>\n",
       "      <th>0003</th>\n",
       "      <td>9</td>\n",
       "    </tr>\n",
       "    <tr>\n",
       "      <th>0004</th>\n",
       "      <td>4</td>\n",
       "    </tr>\n",
       "    <tr>\n",
       "      <th>...</th>\n",
       "      <td>...</td>\n",
       "    </tr>\n",
       "    <tr>\n",
       "      <th>23:56:00</th>\n",
       "      <td>67</td>\n",
       "    </tr>\n",
       "    <tr>\n",
       "      <th>23:56:18</th>\n",
       "      <td>1</td>\n",
       "    </tr>\n",
       "    <tr>\n",
       "      <th>23:57:00</th>\n",
       "      <td>63</td>\n",
       "    </tr>\n",
       "    <tr>\n",
       "      <th>23:57:06</th>\n",
       "      <td>1</td>\n",
       "    </tr>\n",
       "    <tr>\n",
       "      <th>23:57:31</th>\n",
       "      <td>1</td>\n",
       "    </tr>\n",
       "  </tbody>\n",
       "</table>\n",
       "<p>4231 rows × 1 columns</p>\n",
       "</div>"
      ],
      "text/plain": [
       "           Total Incidents\n",
       "CrimeTime                 \n",
       "0000                     2\n",
       "0001                     2\n",
       "0002                     7\n",
       "0003                     9\n",
       "0004                     4\n",
       "...                    ...\n",
       "23:56:00                67\n",
       "23:56:18                 1\n",
       "23:57:00                63\n",
       "23:57:06                 1\n",
       "23:57:31                 1\n",
       "\n",
       "[4231 rows x 1 columns]"
      ]
     },
     "execution_count": 9,
     "metadata": {},
     "output_type": "execute_result"
    }
   ],
   "source": [
    "crime_heure = crime2.groupby(['CrimeTime']).sum()\n",
    "crime_heure.head(-5)"
   ]
  },
  {
   "cell_type": "code",
   "execution_count": 10,
   "metadata": {},
   "outputs": [
    {
     "data": {
      "text/plain": [
       "<function matplotlib.pyplot.show(close=None, block=None)>"
      ]
     },
     "execution_count": 10,
     "metadata": {},
     "output_type": "execute_result"
    },
    {
     "data": {
      "image/png": "[encoded data removed]",
      "text/plain": [
       "<Figure size 432x288 with 1 Axes>"
      ]
     },
     "metadata": {
      "needs_background": "light"
     },
     "output_type": "display_data"
    }
   ],
   "source": [
    "# Visualisons le nombre d'incident par Heure\n",
    "plt.xlabel('CrimeTime')\n",
    "plt.ylabel('Total Incidents')\n",
    "plt.plot(crime_heure)\n",
    "plt.show"
   ]
  },
  {
   "cell_type": "markdown",
   "metadata": {},
   "source": [
    "Determinons le type d'arme le plus utilisé"
   ]
  },
  {
   "cell_type": "code",
   "execution_count": 20,
   "metadata": {},
   "outputs": [
    {
     "data": {
      "text/plain": [
       "<AxesSubplot:ylabel='Weapon'>"
      ]
     },
     "execution_count": 20,
     "metadata": {},
     "output_type": "execute_result"
    },
    {
     "data": {
      "image/png": "[encoded data removed]",
      "text/plain": [
       "<Figure size 432x288 with 1 Axes>"
      ]
     },
     "metadata": {},
     "output_type": "display_data"
    }
   ],
   "source": [
    "crime2['Weapon'].value_counts().plot(kind='pie')"
   ]
  },
  {
   "cell_type": "markdown",
   "metadata": {},
   "source": [
    "Les mains semblent être le type d'arme le plus utilisé pour les crimes "
   ]
  },
  {
   "cell_type": "markdown",
   "metadata": {},
   "source": [
    "# déterminer si notre série est stationnaire ou non \n",
    "Deux façons principales \n",
    "1- Statistiques roulantes:\n",
    "    Tracer la moyenne mobile \n",
    "    Tracer l'écart-type mobile\n",
    "    ==> deux droites parallèle avec l'axe des x \n",
    "2- Test de Dickey-Fuller augmenté (ADF)\n",
    "    Calculer la valeur p\n",
    "    si p est faible ==> stationnaire \n",
    "    si les valeurs critiques à des intervalles de confiance\n",
    "    de 1%, 5%, 10% sont aussi proches que possible\n",
    "    des statistiques de l'ADF (Augmented Dickey-Fuller)\n",
    "    "
   ]
  },
  {
   "cell_type": "markdown",
   "metadata": {},
   "source": [
    "# Statistiques Roulantes"
   ]
  },
  {
   "cell_type": "code",
   "execution_count": 11,
   "metadata": {},
   "outputs": [
    {
     "data": {
      "text/html": [
       "<div>\n",
       "<style scoped>\n",
       "    .dataframe tbody tr th:only-of-type {\n",
       "        vertical-align: middle;\n",
       "    }\n",
       "\n",
       "    .dataframe tbody tr th {\n",
       "        vertical-align: top;\n",
       "    }\n",
       "\n",
       "    .dataframe thead th {\n",
       "        text-align: right;\n",
       "    }\n",
       "</style>\n",
       "<table border=\"1\" class=\"dataframe\">\n",
       "  <thead>\n",
       "    <tr style=\"text-align: right;\">\n",
       "      <th></th>\n",
       "      <th>Total Incidents</th>\n",
       "    </tr>\n",
       "  </thead>\n",
       "  <tbody>\n",
       "    <tr>\n",
       "      <th>count</th>\n",
       "      <td>4236.000000</td>\n",
       "    </tr>\n",
       "    <tr>\n",
       "      <th>mean</th>\n",
       "      <td>67.470963</td>\n",
       "    </tr>\n",
       "    <tr>\n",
       "      <th>std</th>\n",
       "      <td>399.336656</td>\n",
       "    </tr>\n",
       "    <tr>\n",
       "      <th>min</th>\n",
       "      <td>1.000000</td>\n",
       "    </tr>\n",
       "    <tr>\n",
       "      <th>25%</th>\n",
       "      <td>1.000000</td>\n",
       "    </tr>\n",
       "    <tr>\n",
       "      <th>50%</th>\n",
       "      <td>2.000000</td>\n",
       "    </tr>\n",
       "    <tr>\n",
       "      <th>75%</th>\n",
       "      <td>30.000000</td>\n",
       "    </tr>\n",
       "    <tr>\n",
       "      <th>max</th>\n",
       "      <td>7167.000000</td>\n",
       "    </tr>\n",
       "  </tbody>\n",
       "</table>\n",
       "</div>"
      ],
      "text/plain": [
       "       Total Incidents\n",
       "count      4236.000000\n",
       "mean         67.470963\n",
       "std         399.336656\n",
       "min           1.000000\n",
       "25%           1.000000\n",
       "50%           2.000000\n",
       "75%          30.000000\n",
       "max        7167.000000"
      ]
     },
     "execution_count": 11,
     "metadata": {},
     "output_type": "execute_result"
    }
   ],
   "source": [
    "crime_heure.describe()\n"
   ]
  },
  {
   "cell_type": "code",
   "execution_count": 12,
   "metadata": {},
   "outputs": [
    {
     "data": {
      "image/png": "[encoded data removed]",
      "text/plain": [
       "<Figure size 432x288 with 1 Axes>"
      ]
     },
     "metadata": {
      "needs_background": "light"
     },
     "output_type": "display_data"
    }
   ],
   "source": [
    "#calculons la moyenne roulante pour notre crimes\n",
    "rolling_mean = crime_date.rolling(window= 12).mean()\n",
    "# calculons l'écart type roulant pour notre dataset\n",
    "rolling_std = crime_date.rolling(window=12).std()\n",
    "#visualisons les statisques roulantes\n",
    "\n",
    "plt.plot(crime_date, color='blue', label='Origine')\n",
    "plt.plot(rolling_mean, color='red', label='Moyenne mobile')\n",
    "plt.plot(rolling_std, color='black', label='Ecart Type')\n",
    "\n",
    "plt.legend(loc='best')\n",
    "plt.title('Statistiques roulantes')\n",
    "plt.show()\n"
   ]
  },
  {
   "cell_type": "markdown",
   "metadata": {},
   "source": [
    "la moyenne mobile semble ne pas augmenter avec le temps \n",
    "l'écart type semble constante dans le temps\n",
    "==> la série temporelle semble stationnaire "
   ]
  },
  {
   "cell_type": "markdown",
   "metadata": {},
   "source": [
    "# ADF"
   ]
  },
  {
   "cell_type": "code",
   "execution_count": 13,
   "metadata": {},
   "outputs": [
    {
     "name": "stdout",
     "output_type": "stream",
     "text": [
      "Statistiques ADF : -2.6610332253224738\n",
      "p-value : 0.08102732622550052\n",
      "Valeurs Critiques :\n",
      "\t1%: -3.433442700457683\n",
      "\t5%: -2.8629062300113994\n",
      "\t10%: -2.567497315483069\n"
     ]
    }
   ],
   "source": [
    "result = adfuller(crime_date)\n",
    "print('Statistiques ADF : {}'.format(result[0]))\n",
    "print('p-value : {}'.format(result[1]))\n",
    "print('Valeurs Critiques :')\n",
    "for key, value in result[4].items():\n",
    "    print('\\t{}: {}'.format(key, value))"
   ]
  },
  {
   "cell_type": "markdown",
   "metadata": {},
   "source": [
    "Statisitques ADF proche des valeurs critiques \n",
    "  ==> La série est donc stationnaire "
   ]
  },
  {
   "cell_type": "code",
   "execution_count": 14,
   "metadata": {},
   "outputs": [
    {
     "data": {
      "image/png": "[encoded data removed]",
      "text/plain": [
       "<Figure size 432x288 with 1 Axes>"
      ]
     },
     "metadata": {
      "needs_background": "light"
     },
     "output_type": "display_data"
    },
    {
     "data": {
      "text/html": [
       "<div>\n",
       "<style scoped>\n",
       "    .dataframe tbody tr th:only-of-type {\n",
       "        vertical-align: middle;\n",
       "    }\n",
       "\n",
       "    .dataframe tbody tr th {\n",
       "        vertical-align: top;\n",
       "    }\n",
       "\n",
       "    .dataframe thead th {\n",
       "        text-align: right;\n",
       "    }\n",
       "</style>\n",
       "<table border=\"1\" class=\"dataframe\">\n",
       "  <thead>\n",
       "    <tr style=\"text-align: right;\">\n",
       "      <th></th>\n",
       "      <th>Total Incidents</th>\n",
       "    </tr>\n",
       "    <tr>\n",
       "      <th>CrimeDate</th>\n",
       "      <th></th>\n",
       "    </tr>\n",
       "  </thead>\n",
       "  <tbody>\n",
       "    <tr>\n",
       "      <th>01/01/2011</th>\n",
       "      <td>5.220356</td>\n",
       "    </tr>\n",
       "    <tr>\n",
       "      <th>01/01/2012</th>\n",
       "      <td>5.170484</td>\n",
       "    </tr>\n",
       "    <tr>\n",
       "      <th>01/01/2013</th>\n",
       "      <td>5.056246</td>\n",
       "    </tr>\n",
       "    <tr>\n",
       "      <th>01/01/2014</th>\n",
       "      <td>4.934474</td>\n",
       "    </tr>\n",
       "    <tr>\n",
       "      <th>01/01/2015</th>\n",
       "      <td>5.056246</td>\n",
       "    </tr>\n",
       "  </tbody>\n",
       "</table>\n",
       "</div>"
      ],
      "text/plain": [
       "            Total Incidents\n",
       "CrimeDate                  \n",
       "01/01/2011         5.220356\n",
       "01/01/2012         5.170484\n",
       "01/01/2013         5.056246\n",
       "01/01/2014         4.934474\n",
       "01/01/2015         5.056246"
      ]
     },
     "execution_count": 14,
     "metadata": {},
     "output_type": "execute_result"
    }
   ],
   "source": [
    "crime_date_log = np.log(crime_date)\n",
    "plt.plot(crime_date_log)\n",
    "plt.show()\n",
    "crime_date_log.head(5)"
   ]
  },
  {
   "cell_type": "markdown",
   "metadata": {},
   "source": [
    "Créons une fonction qui permet qui permet d'exécuter les deux tests qui déterminent si une série temporelle donnée est stationnaire:"
   ]
  },
  {
   "cell_type": "code",
   "execution_count": 15,
   "metadata": {},
   "outputs": [],
   "source": [
    "#Fonction permettant d'éxécuter les deux test\n",
    "def get_stationarity(timeseries):\n",
    "    \n",
    "    #Statistiques mobiles \n",
    "    # calculer la moyenne roulante pour notre df\n",
    "    rolling_mean = timeseries.rolling(window = 12).mean()\n",
    "    # calculer l'Ecart-type roulant pour notre df\n",
    "    rolling_std = timeseries.rolling(window = 12).std()\n",
    "\n",
    "    # Visulaiser les statistiques mobiles\n",
    "    plt.plot(timeseries, color='blue', label= 'Origine')\n",
    "    plt.plot(rolling_mean, color='red', label ='Moyenne mobile')\n",
    "    plt.plot(rolling_std, color='black', label ='Ecart-type mobile')\n",
    "\n",
    "    plt.legend(loc='best')\n",
    "    plt.title('Statistiques roulantes')\n",
    "    plt.show(block= False)\n",
    "    \n",
    "    # Test Dickey-Fuller\n",
    "    result = adfuller(timeseries)\n",
    "    print('Statistiques ADF : {}'.format(result[0]))\n",
    "    print('p-value : {}'.format(result[1]))\n",
    "    print('Valeurs Critiques :')\n",
    "    for key, value in result[4].items():\n",
    "        print('\\t{}: {}'.format(key, value))\n",
    "    "
   ]
  },
  {
   "cell_type": "markdown",
   "metadata": {},
   "source": [
    "Soustrayons la moyenne mobile"
   ]
  },
  {
   "cell_type": "code",
   "execution_count": 16,
   "metadata": {},
   "outputs": [
    {
     "data": {
      "image/png": "[encoded data removed]",
      "text/plain": [
       "<Figure size 432x288 with 1 Axes>"
      ]
     },
     "metadata": {
      "needs_background": "light"
     },
     "output_type": "display_data"
    },
    {
     "name": "stdout",
     "output_type": "stream",
     "text": [
      "Statistiques ADF : -12.96405926023103\n",
      "p-value : 3.180708262787129e-24\n",
      "Valeurs Critiques :\n",
      "\t1%: -3.4334559207180577\n",
      "\t5%: -2.8629120671487107\n",
      "\t10%: -2.5675004234073504\n"
     ]
    }
   ],
   "source": [
    "rolling_mean1 = crime_date_log.rolling(window=12).mean()\n",
    "\n",
    "crime_date_log_minus_mean = crime_date_log - rolling_mean1\n",
    "\n",
    "crime_date_log_minus_mean.dropna(inplace=True)\n",
    "\n",
    "get_stationarity(crime_date_log_minus_mean)"
   ]
  },
  {
   "cell_type": "markdown",
   "metadata": {},
   "source": [
    "On constate que l'original est plus stationnaire que la soustraction de la moyenne mobile"
   ]
  },
  {
   "cell_type": "markdown",
   "metadata": {},
   "source": [
    "# ARIMA avec un Modèle Auto Regressif d'ordre 2"
   ]
  },
  {
   "cell_type": "code",
   "execution_count": 18,
   "metadata": {},
   "outputs": [
    {
     "ename": "ValueError",
     "evalue": "You must specify a period or x must be a pandas object with a PeriodIndex or a DatetimeIndex with a freq not set to None",
     "output_type": "error",
     "traceback": [
      "\u001b[1;31m---------------------------------------------------------------------------\u001b[0m",
      "\u001b[1;31mValueError\u001b[0m                                Traceback (most recent call last)",
      "\u001b[1;32mc:\\Users\\gaman\\OneDrive - baudoin\\Bureau\\serie temporelle\\notebook_serie_temporelle.ipynb Cell 33'\u001b[0m in \u001b[0;36m<cell line: 1>\u001b[1;34m()\u001b[0m\n\u001b[1;32m----> <a href='vscode-notebook-cell:/c%3A/Users/gaman/OneDrive%20-%20baudoin/Bureau/serie%20temporelle/notebook_serie_temporelle.ipynb#ch0000032?line=0'>1</a>\u001b[0m decomposition \u001b[39m=\u001b[39m seasonal_decompose(crime_date_log)\n\u001b[0;32m      <a href='vscode-notebook-cell:/c%3A/Users/gaman/OneDrive%20-%20baudoin/Bureau/serie%20temporelle/notebook_serie_temporelle.ipynb#ch0000032?line=1'>2</a>\u001b[0m model \u001b[39m=\u001b[39m ARIMA(crime_date_log, order \u001b[39m=\u001b[39m (\u001b[39m2\u001b[39m,\u001b[39m1\u001b[39m,\u001b[39m2\u001b[39m))\n\u001b[0;32m      <a href='vscode-notebook-cell:/c%3A/Users/gaman/OneDrive%20-%20baudoin/Bureau/serie%20temporelle/notebook_serie_temporelle.ipynb#ch0000032?line=2'>3</a>\u001b[0m results \u001b[39m=\u001b[39m model\u001b[39m.\u001b[39mfit(disp\u001b[39m=\u001b[39m\u001b[39m-\u001b[39m\u001b[39m1\u001b[39m)\n",
      "File \u001b[1;32mc:\\Users\\gaman\\anaconda3\\envs\\datajob\\lib\\site-packages\\statsmodels\\tsa\\seasonal.py:159\u001b[0m, in \u001b[0;36mseasonal_decompose\u001b[1;34m(x, model, filt, period, two_sided, extrapolate_trend)\u001b[0m\n\u001b[0;32m    <a href='file:///c%3A/Users/gaman/anaconda3/envs/datajob/lib/site-packages/statsmodels/tsa/seasonal.py?line=156'>157</a>\u001b[0m         period \u001b[39m=\u001b[39m pfreq\n\u001b[0;32m    <a href='file:///c%3A/Users/gaman/anaconda3/envs/datajob/lib/site-packages/statsmodels/tsa/seasonal.py?line=157'>158</a>\u001b[0m     \u001b[39melse\u001b[39;00m:\n\u001b[1;32m--> <a href='file:///c%3A/Users/gaman/anaconda3/envs/datajob/lib/site-packages/statsmodels/tsa/seasonal.py?line=158'>159</a>\u001b[0m         \u001b[39mraise\u001b[39;00m \u001b[39mValueError\u001b[39;00m(\n\u001b[0;32m    <a href='file:///c%3A/Users/gaman/anaconda3/envs/datajob/lib/site-packages/statsmodels/tsa/seasonal.py?line=159'>160</a>\u001b[0m             \u001b[39m\"\u001b[39m\u001b[39mYou must specify a period or x must be a pandas object with \u001b[39m\u001b[39m\"\u001b[39m\n\u001b[0;32m    <a href='file:///c%3A/Users/gaman/anaconda3/envs/datajob/lib/site-packages/statsmodels/tsa/seasonal.py?line=160'>161</a>\u001b[0m             \u001b[39m\"\u001b[39m\u001b[39ma PeriodIndex or a DatetimeIndex with a freq not set to None\u001b[39m\u001b[39m\"\u001b[39m\n\u001b[0;32m    <a href='file:///c%3A/Users/gaman/anaconda3/envs/datajob/lib/site-packages/statsmodels/tsa/seasonal.py?line=161'>162</a>\u001b[0m         )\n\u001b[0;32m    <a href='file:///c%3A/Users/gaman/anaconda3/envs/datajob/lib/site-packages/statsmodels/tsa/seasonal.py?line=162'>163</a>\u001b[0m \u001b[39mif\u001b[39;00m x\u001b[39m.\u001b[39mshape[\u001b[39m0\u001b[39m] \u001b[39m<\u001b[39m \u001b[39m2\u001b[39m \u001b[39m*\u001b[39m pfreq:\n\u001b[0;32m    <a href='file:///c%3A/Users/gaman/anaconda3/envs/datajob/lib/site-packages/statsmodels/tsa/seasonal.py?line=163'>164</a>\u001b[0m     \u001b[39mraise\u001b[39;00m \u001b[39mValueError\u001b[39;00m(\n\u001b[0;32m    <a href='file:///c%3A/Users/gaman/anaconda3/envs/datajob/lib/site-packages/statsmodels/tsa/seasonal.py?line=164'>165</a>\u001b[0m         \u001b[39mf\u001b[39m\u001b[39m\"\u001b[39m\u001b[39mx must have 2 complete cycles requires \u001b[39m\u001b[39m{\u001b[39;00m\u001b[39m2\u001b[39m \u001b[39m*\u001b[39m pfreq\u001b[39m}\u001b[39;00m\u001b[39m \u001b[39m\u001b[39m\"\u001b[39m\n\u001b[0;32m    <a href='file:///c%3A/Users/gaman/anaconda3/envs/datajob/lib/site-packages/statsmodels/tsa/seasonal.py?line=165'>166</a>\u001b[0m         \u001b[39mf\u001b[39m\u001b[39m\"\u001b[39m\u001b[39mobservations. x only has \u001b[39m\u001b[39m{\u001b[39;00mx\u001b[39m.\u001b[39mshape[\u001b[39m0\u001b[39m]\u001b[39m}\u001b[39;00m\u001b[39m observation(s)\u001b[39m\u001b[39m\"\u001b[39m\n\u001b[0;32m    <a href='file:///c%3A/Users/gaman/anaconda3/envs/datajob/lib/site-packages/statsmodels/tsa/seasonal.py?line=166'>167</a>\u001b[0m     )\n",
      "\u001b[1;31mValueError\u001b[0m: You must specify a period or x must be a pandas object with a PeriodIndex or a DatetimeIndex with a freq not set to None"
     ]
    }
   ],
   "source": [
    "decomposition = seasonal_decompose(crime_date_log)\n",
    "model = ARIMA(crime_date_log, order = (2,1,2))\n",
    "results = model.fit(disp=-1)\n",
    "plt.plot(crime_date_log)\n",
    "plt.plot(results.fittedvalues, color='red')\n",
    " "
   ]
  }
 ],
 "metadata": {
  "interpreter": {
   "hash": "fb4630ae987c32f92c843b49b0cc4c7736fde27550d1aacaec52ee2f4b4ee844"
  },
  "kernelspec": {
   "display_name": "Python 3.8.13 ('datajob')",
   "language": "python",
   "name": "python3"
  },
  "language_info": {
   "codemirror_mode": {
    "name": "ipython",
    "version": 3
   },
   "file_extension": ".py",
   "mimetype": "text/x-python",
   "name": "python",
   "nbconvert_exporter": "python",
   "pygments_lexer": "ipython3",
   "version": "3.8.13"
  },
  "orig_nbformat": 4
 },
 "nbformat": 4,
 "nbformat_minor": 2
}
